{
 "cells": [
  {
   "cell_type": "code",
   "execution_count": 1,
   "id": "b5563029",
   "metadata": {},
   "outputs": [],
   "source": [
    "import pandas as pd\n",
    "import re"
   ]
  },
  {
   "cell_type": "code",
   "execution_count": 2,
   "id": "49eab474",
   "metadata": {},
   "outputs": [],
   "source": [
    "stats = pd.read_csv('C:/Users/ericm/Documents/SoftwareTech/AssignmentPartB/data/Crash Statistics Victoria.csv', index_col=0)"
   ]
  },
  {
   "cell_type": "code",
   "execution_count": 3,
   "id": "e80c8856",
   "metadata": {},
   "outputs": [],
   "source": [
    "code = stats['DCA_CODE'].unique()"
   ]
  },
  {
   "cell_type": "code",
   "execution_count": 8,
   "id": "a89fec28",
   "metadata": {},
   "outputs": [
    {
     "data": {
      "text/plain": [
       "OBJECTID\n",
       "3401744    False\n",
       "3401745    False\n",
       "3401746    False\n",
       "3401747    False\n",
       "3401748    False\n",
       "           ...  \n",
       "3476647    False\n",
       "3476648    False\n",
       "3476649    False\n",
       "3476650    False\n",
       "3476651    False\n",
       "Name: ACCIDENT_DATE, Length: 74908, dtype: bool"
      ]
     },
     "metadata": {},
     "output_type": "display_data"
    }
   ],
   "source": [
    "display(stats[\"ACCIDENT_DATE\"] == 1/7/2013)"
   ]
  },
  {
   "cell_type": "code",
   "execution_count": null,
   "id": "68a83169",
   "metadata": {},
   "outputs": [],
   "source": []
  }
 ],
 "metadata": {
  "kernelspec": {
   "display_name": "Python 3 (ipykernel)",
   "language": "python",
   "name": "python3"
  },
  "language_info": {
   "codemirror_mode": {
    "name": "ipython",
    "version": 3
   },
   "file_extension": ".py",
   "mimetype": "text/x-python",
   "name": "python",
   "nbconvert_exporter": "python",
   "pygments_lexer": "ipython3",
   "version": "3.9.12"
  }
 },
 "nbformat": 4,
 "nbformat_minor": 5
}
